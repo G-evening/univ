{
  "nbformat": 4,
  "nbformat_minor": 0,
  "metadata": {
    "colab": {
      "name": "2016726046_20211129.ipynb",
      "provenance": [],
      "collapsed_sections": [],
      "authorship_tag": "ABX9TyPt6aL2aAo1Mxsw+05Eg1ki",
      "include_colab_link": true
    },
    "kernelspec": {
      "name": "python3",
      "display_name": "Python 3"
    },
    "language_info": {
      "name": "python"
    }
  },
  "cells": [
    {
      "cell_type": "markdown",
      "metadata": {
        "id": "view-in-github",
        "colab_type": "text"
      },
      "source": [
        "<a href=\"https://colab.research.google.com/github/G-evening/univ/blob/main/2016726046_20211129.ipynb\" target=\"_parent\"><img src=\"https://colab.research.google.com/assets/colab-badge.svg\" alt=\"Open In Colab\"/></a>"
      ]
    },
    {
      "cell_type": "code",
      "metadata": {
        "id": "VfQPiSBt_Hg8"
      },
      "source": [
        "import numpy as np"
      ],
      "execution_count": 15,
      "outputs": []
    },
    {
      "cell_type": "code",
      "metadata": {
        "colab": {
          "base_uri": "https://localhost:8080/"
        },
        "id": "hYXN-n0X927R",
        "outputId": "c61158b4-07da-4d01-f3f6-04a4bef2d5d3"
      },
      "source": [
        "A = np.array([[0, 1, -2.3, 0.1], [1.3, 4, -0.1, 0], [4.1, -1.0, 0, 1.7]])\n",
        "A.shape"
      ],
      "execution_count": 16,
      "outputs": [
        {
          "output_type": "execute_result",
          "data": {
            "text/plain": [
              "(3, 4)"
            ]
          },
          "metadata": {},
          "execution_count": 16
        }
      ]
    },
    {
      "cell_type": "code",
      "metadata": {
        "colab": {
          "base_uri": "https://localhost:8080/"
        },
        "id": "z0III9HX-pIb",
        "outputId": "60120f6b-c19c-4ec6-ecbd-5149dd335f71"
      },
      "source": [
        "m,n = A.shape\n",
        "print('# of rows : ', m)\n",
        "print('# of cols : ', n)"
      ],
      "execution_count": 19,
      "outputs": [
        {
          "output_type": "stream",
          "name": "stdout",
          "text": [
            "# of rows :  3\n",
            "# of cols :  4\n"
          ]
        }
      ]
    },
    {
      "cell_type": "code",
      "metadata": {
        "colab": {
          "base_uri": "https://localhost:8080/"
        },
        "id": "pQWw5mwD-0Jd",
        "outputId": "1240f84a-57f1-4ec4-ed66-08d4eea0180b"
      },
      "source": [
        "tall = lambda X: A.shape[0] > A.shape[1]\n",
        "tall(A)"
      ],
      "execution_count": 21,
      "outputs": [
        {
          "output_type": "execute_result",
          "data": {
            "text/plain": [
              "False"
            ]
          },
          "metadata": {},
          "execution_count": 21
        }
      ]
    },
    {
      "cell_type": "code",
      "metadata": {
        "colab": {
          "base_uri": "https://localhost:8080/"
        },
        "id": "nTJ0cG-P_2kf",
        "outputId": "9b6fb631-bce8-4ced-cffa-e1613654d495"
      },
      "source": [
        "wide = lambda X: A.shape[0] < A.shape[1]\n",
        "wide(A)"
      ],
      "execution_count": 22,
      "outputs": [
        {
          "output_type": "execute_result",
          "data": {
            "text/plain": [
              "True"
            ]
          },
          "metadata": {},
          "execution_count": 22
        }
      ]
    },
    {
      "cell_type": "code",
      "metadata": {
        "colab": {
          "base_uri": "https://localhost:8080/"
        },
        "id": "EsiDzJL4B5rT",
        "outputId": "9f0c327a-08a8-423b-dcb6-f114b1da9a0d"
      },
      "source": [
        "A = [[0,1,-2.3,0.1], [1.3, 4, -0.1, 0], [4.1, -1.0, 0, 1.7]]\n",
        "print('m:', len(A))\n",
        "print('n:', len(A[0]))"
      ],
      "execution_count": 23,
      "outputs": [
        {
          "output_type": "stream",
          "name": "stdout",
          "text": [
            "m: 3\n",
            "n: 4\n"
          ]
        }
      ]
    },
    {
      "cell_type": "code",
      "metadata": {
        "colab": {
          "base_uri": "https://localhost:8080/"
        },
        "id": "shjKtDjjCx1y",
        "outputId": "9b618d40-809f-4bb7-de64-c32ad8f96b07"
      },
      "source": [
        "A = np.array([[0,1,-2.3,0.1], [1.3, 4, -0.1, 0], [4.1, -1.0, 0, 1.7]])\n",
        "B = A.copy()\n",
        "A == B"
      ],
      "execution_count": 29,
      "outputs": [
        {
          "output_type": "execute_result",
          "data": {
            "text/plain": [
              "array([[ True,  True,  True,  True],\n",
              "       [ True,  True,  True,  True],\n",
              "       [ True,  True,  True,  True]])"
            ]
          },
          "metadata": {},
          "execution_count": 29
        }
      ]
    },
    {
      "cell_type": "code",
      "metadata": {
        "colab": {
          "base_uri": "https://localhost:8080/"
        },
        "id": "9mLQtEIuDEdP",
        "outputId": "053720f1-2c9d-4cd2-8d9f-23451a4a2556"
      },
      "source": [
        "A = [[0,1,-2.3,0.1],[1.3, 4, -0.1, 0],[4.1, -1.0, 0, 1.7]]\n",
        "B = [[0,1,-2.3,100],[1.3, 4, -0.1, 0],[4.1, -1.0, 0, 1.7]]\n",
        "A == B\n"
      ],
      "execution_count": 30,
      "outputs": [
        {
          "output_type": "execute_result",
          "data": {
            "text/plain": [
              "False"
            ]
          },
          "metadata": {},
          "execution_count": 30
        }
      ]
    },
    {
      "cell_type": "code",
      "metadata": {
        "colab": {
          "base_uri": "https://localhost:8080/"
        },
        "id": "RGCATib9DHQE",
        "outputId": "68d4c8d3-9893-4937-fa20-3af9cc7bd2c0"
      },
      "source": [
        "a = np.array([-2.1, -3, 0])\n",
        "a.shape\n"
      ],
      "execution_count": 31,
      "outputs": [
        {
          "output_type": "execute_result",
          "data": {
            "text/plain": [
              "(3,)"
            ]
          },
          "metadata": {},
          "execution_count": 31
        }
      ]
    },
    {
      "cell_type": "code",
      "metadata": {
        "colab": {
          "base_uri": "https://localhost:8080/"
        },
        "id": "YP3T9MsqDJRY",
        "outputId": "a89826c5-fc00-4346-924b-bf0762725e19"
      },
      "source": [
        "b = np.array([[-2.1],[-3],[0]])\n",
        "b.shape"
      ],
      "execution_count": 32,
      "outputs": [
        {
          "output_type": "execute_result",
          "data": {
            "text/plain": [
              "(3, 1)"
            ]
          },
          "metadata": {},
          "execution_count": 32
        }
      ]
    },
    {
      "cell_type": "code",
      "metadata": {
        "colab": {
          "base_uri": "https://localhost:8080/"
        },
        "id": "BaGhSgYfDLF_",
        "outputId": "584f73fe-0ec1-45ef-cd1d-9fe05c86d834"
      },
      "source": [
        "c = np.array([[-2.1, -3, 0]])\n",
        "c.shape\n"
      ],
      "execution_count": 33,
      "outputs": [
        {
          "output_type": "execute_result",
          "data": {
            "text/plain": [
              "(1, 3)"
            ]
          },
          "metadata": {},
          "execution_count": 33
        }
      ]
    },
    {
      "cell_type": "code",
      "metadata": {
        "colab": {
          "base_uri": "https://localhost:8080/"
        },
        "id": "0PYWcK2ZDNZF",
        "outputId": "a4d6f8d6-cab8-471d-d66a-d7d01cd948fb"
      },
      "source": [
        "A = np.array([[-1, 0, 1, 0],[2, -3, 0, 1],[0, 4, -2, 1]])\n",
        "A[0:2, 2:4]\n"
      ],
      "execution_count": 34,
      "outputs": [
        {
          "output_type": "execute_result",
          "data": {
            "text/plain": [
              "array([[1, 0],\n",
              "       [0, 1]])"
            ]
          },
          "metadata": {},
          "execution_count": 34
        }
      ]
    },
    {
      "cell_type": "code",
      "metadata": {
        "colab": {
          "base_uri": "https://localhost:8080/"
        },
        "id": "f6aXLDTKDOp0",
        "outputId": "d5655ee0-0fc6-4ca3-a2ca-e2be64f0755e"
      },
      "source": [
        "A[0:3, 2:3]"
      ],
      "execution_count": 35,
      "outputs": [
        {
          "output_type": "execute_result",
          "data": {
            "text/plain": [
              "array([[ 1],\n",
              "       [ 0],\n",
              "       [-2]])"
            ]
          },
          "metadata": {},
          "execution_count": 35
        }
      ]
    },
    {
      "cell_type": "code",
      "metadata": {
        "colab": {
          "base_uri": "https://localhost:8080/"
        },
        "id": "WNFKu_MsEoaT",
        "outputId": "c4d6c489-c48c-4fba-f124-f10d54c39d40"
      },
      "source": [
        "A[:,2]"
      ],
      "execution_count": 36,
      "outputs": [
        {
          "output_type": "execute_result",
          "data": {
            "text/plain": [
              "array([ 1,  0, -2])"
            ]
          },
          "metadata": {},
          "execution_count": 36
        }
      ]
    },
    {
      "cell_type": "code",
      "metadata": {
        "colab": {
          "base_uri": "https://localhost:8080/"
        },
        "id": "l17ip3LeEojt",
        "outputId": "36febabf-7575-4dea-df5d-c4a0420dc193"
      },
      "source": [
        "A[1, :]"
      ],
      "execution_count": 37,
      "outputs": [
        {
          "output_type": "execute_result",
          "data": {
            "text/plain": [
              "array([ 2, -3,  0,  1])"
            ]
          },
          "metadata": {},
          "execution_count": 37
        }
      ]
    },
    {
      "cell_type": "code",
      "metadata": {
        "colab": {
          "base_uri": "https://localhost:8080/"
        },
        "id": "LqaFREsuEtAA",
        "outputId": "06c16354-c783-4d47-f1f4-626a666b5b56"
      },
      "source": [
        "A.reshape((6,2))\n"
      ],
      "execution_count": 38,
      "outputs": [
        {
          "output_type": "execute_result",
          "data": {
            "text/plain": [
              "array([[-1,  0],\n",
              "       [ 1,  0],\n",
              "       [ 2, -3],\n",
              "       [ 0,  1],\n",
              "       [ 0,  4],\n",
              "       [-2,  1]])"
            ]
          },
          "metadata": {},
          "execution_count": 38
        }
      ]
    },
    {
      "cell_type": "code",
      "metadata": {
        "colab": {
          "base_uri": "https://localhost:8080/",
          "height": 174
        },
        "id": "XTxY4p5XFesK",
        "outputId": "37ee2980-b81b-4da2-83d8-4528db5303df"
      },
      "source": [
        "A.reshape((3,2))\n"
      ],
      "execution_count": 39,
      "outputs": [
        {
          "output_type": "error",
          "ename": "ValueError",
          "evalue": "ignored",
          "traceback": [
            "\u001b[0;31m---------------------------------------------------------------------------\u001b[0m",
            "\u001b[0;31mValueError\u001b[0m                                Traceback (most recent call last)",
            "\u001b[0;32m<ipython-input-39-dcf4d896d08c>\u001b[0m in \u001b[0;36m<module>\u001b[0;34m()\u001b[0m\n\u001b[0;32m----> 1\u001b[0;31m \u001b[0mA\u001b[0m\u001b[0;34m.\u001b[0m\u001b[0mreshape\u001b[0m\u001b[0;34m(\u001b[0m\u001b[0;34m(\u001b[0m\u001b[0;36m3\u001b[0m\u001b[0;34m,\u001b[0m\u001b[0;36m2\u001b[0m\u001b[0;34m)\u001b[0m\u001b[0;34m)\u001b[0m\u001b[0;34m\u001b[0m\u001b[0;34m\u001b[0m\u001b[0m\n\u001b[0m",
            "\u001b[0;31mValueError\u001b[0m: cannot reshape array of size 12 into shape (3,2)"
          ]
        }
      ]
    },
    {
      "cell_type": "code",
      "metadata": {
        "id": "Kr89Mc9wFfYV"
      },
      "source": [
        "B = np.array([0,2,3]) \n",
        "C = np.array([-1]) \n",
        "D = np.array([[2,2,1],[1,3,5]]) \n",
        "E = np.array([[4],[4]]) "
      ],
      "execution_count": 40,
      "outputs": []
    },
    {
      "cell_type": "code",
      "metadata": {
        "colab": {
          "base_uri": "https://localhost:8080/"
        },
        "id": "ps5DvG7yFmJg",
        "outputId": "959a9968-57cd-4a01-c3a9-4a7a27909171"
      },
      "source": [
        "A = np.block([[B,C],[D,E]])\n",
        "A\n"
      ],
      "execution_count": 41,
      "outputs": [
        {
          "output_type": "execute_result",
          "data": {
            "text/plain": [
              "array([[ 0,  2,  3, -1],\n",
              "       [ 2,  2,  1,  4],\n",
              "       [ 1,  3,  5,  4]])"
            ]
          },
          "metadata": {},
          "execution_count": 41
        }
      ]
    },
    {
      "cell_type": "code",
      "metadata": {
        "colab": {
          "base_uri": "https://localhost:8080/"
        },
        "id": "vKRTm4fzHc4N",
        "outputId": "1d62efd6-60c0-4c3c-d1e6-d5eaed6e7939"
      },
      "source": [
        "a = [1,2]\n",
        "b = [4,5]\n",
        "c = [7,8]\n",
        "A = np.vstack([a,b,c])\n",
        "B = np.hstack([a,b,c])\n",
        "print(A)\n",
        "print(A.shape)\n",
        "print(B)\n",
        "print(B.shape)"
      ],
      "execution_count": 42,
      "outputs": [
        {
          "output_type": "stream",
          "name": "stdout",
          "text": [
            "[[1 2]\n",
            " [4 5]\n",
            " [7 8]]\n",
            "(3, 2)\n",
            "[1 2 4 5 7 8]\n",
            "(6,)\n"
          ]
        }
      ]
    },
    {
      "cell_type": "code",
      "metadata": {
        "colab": {
          "base_uri": "https://localhost:8080/"
        },
        "id": "9Z7eCYnwHlDH",
        "outputId": "a21a7206-5577-491f-8c8d-67c580940462"
      },
      "source": [
        "a = [[1],[2]]\n",
        "b = [[4],[5]]\n",
        "c = [[7],[8]]\n",
        "A = np.vstack([a,b,c])\n",
        "B = np.hstack([a,b,c])\n",
        "print(A)\n",
        "print(A.shape)\n",
        "print(B)\n",
        "print(B.shape)"
      ],
      "execution_count": 43,
      "outputs": [
        {
          "output_type": "stream",
          "name": "stdout",
          "text": [
            "[[1]\n",
            " [2]\n",
            " [4]\n",
            " [5]\n",
            " [7]\n",
            " [8]]\n",
            "(6, 1)\n",
            "[[1 4 7]\n",
            " [2 5 8]]\n",
            "(2, 3)\n"
          ]
        }
      ]
    },
    {
      "cell_type": "code",
      "metadata": {
        "colab": {
          "base_uri": "https://localhost:8080/"
        },
        "id": "IgciCvtjHqPK",
        "outputId": "49a97135-a670-4580-e45d-cb5988eaafdb"
      },
      "source": [
        "np.c_[-np.identity(3), np.zeros(3)]\n"
      ],
      "execution_count": 44,
      "outputs": [
        {
          "output_type": "execute_result",
          "data": {
            "text/plain": [
              "array([[-1., -0., -0.,  0.],\n",
              "       [-0., -1., -0.,  0.],\n",
              "       [-0., -0., -1.,  0.]])"
            ]
          },
          "metadata": {},
          "execution_count": 44
        }
      ]
    },
    {
      "cell_type": "code",
      "metadata": {
        "colab": {
          "base_uri": "https://localhost:8080/"
        },
        "id": "9Zqj54sIHsSG",
        "outputId": "89cf4f5b-29db-4959-c854-4df05181154c"
      },
      "source": [
        "np.r_[np.identity(3), np.zeros((1,3))]"
      ],
      "execution_count": 45,
      "outputs": [
        {
          "output_type": "execute_result",
          "data": {
            "text/plain": [
              "array([[1., 0., 0.],\n",
              "       [0., 1., 0.],\n",
              "       [0., 0., 1.],\n",
              "       [0., 0., 0.]])"
            ]
          },
          "metadata": {},
          "execution_count": 45
        }
      ]
    },
    {
      "cell_type": "code",
      "metadata": {
        "colab": {
          "base_uri": "https://localhost:8080/"
        },
        "id": "A-uRwj3IHtYS",
        "outputId": "1f3f3e62-289d-43ac-f814-d6e78c0d7a33"
      },
      "source": [
        "np.zeros((2,2))\n"
      ],
      "execution_count": 46,
      "outputs": [
        {
          "output_type": "execute_result",
          "data": {
            "text/plain": [
              "array([[0., 0.],\n",
              "       [0., 0.]])"
            ]
          },
          "metadata": {},
          "execution_count": 46
        }
      ]
    },
    {
      "cell_type": "code",
      "metadata": {
        "colab": {
          "base_uri": "https://localhost:8080/"
        },
        "id": "ezo-aOutJuwk",
        "outputId": "b599e46e-07f7-4a60-ec57-ae82c9ad5406"
      },
      "source": [
        "np.identity(4)\n"
      ],
      "execution_count": 50,
      "outputs": [
        {
          "output_type": "execute_result",
          "data": {
            "text/plain": [
              "array([[1., 0., 0., 0.],\n",
              "       [0., 1., 0., 0.],\n",
              "       [0., 0., 1., 0.],\n",
              "       [0., 0., 0., 1.]])"
            ]
          },
          "metadata": {},
          "execution_count": 50
        }
      ]
    },
    {
      "cell_type": "code",
      "metadata": {
        "id": "WZ-1IBzLJwjt"
      },
      "source": [
        "x = np.array([[0, 1, 2],\n",
        "[3, 4, 5],\n",
        "[6, 7, 8]])\n",
        "print(np.diag(x))"
      ],
      "execution_count": null,
      "outputs": []
    },
    {
      "cell_type": "code",
      "metadata": {
        "id": "Q2yXyEGcJyFK"
      },
      "source": [
        "print(np.diag(np.diag(x)))\n"
      ],
      "execution_count": null,
      "outputs": []
    },
    {
      "cell_type": "code",
      "metadata": {
        "colab": {
          "base_uri": "https://localhost:8080/"
        },
        "id": "-RkILHNPJzWa",
        "outputId": "d532a5ca-9e4a-4b0e-9a1f-5ae85317ec8d"
      },
      "source": [
        "np.random.random((2,3))\n"
      ],
      "execution_count": 51,
      "outputs": [
        {
          "output_type": "execute_result",
          "data": {
            "text/plain": [
              "array([[0.72647256, 0.8804614 , 0.54578991],\n",
              "       [0.27505934, 0.07974416, 0.68531173]])"
            ]
          },
          "metadata": {},
          "execution_count": 51
        }
      ]
    },
    {
      "cell_type": "code",
      "metadata": {
        "colab": {
          "base_uri": "https://localhost:8080/"
        },
        "id": "tSZI64hgJ1cW",
        "outputId": "e83d4bfa-e37c-4703-e884-a4d802e94c5e"
      },
      "source": [
        "np.random.randn(3,2)\n"
      ],
      "execution_count": 52,
      "outputs": [
        {
          "output_type": "execute_result",
          "data": {
            "text/plain": [
              "array([[-0.54326983, -0.45492519],\n",
              "       [ 0.71423305,  0.70580409],\n",
              "       [-1.85530714,  0.24890107]])"
            ]
          },
          "metadata": {},
          "execution_count": 52
        }
      ]
    },
    {
      "cell_type": "code",
      "metadata": {
        "colab": {
          "base_uri": "https://localhost:8080/"
        },
        "id": "kv6gZTyeMLp7",
        "outputId": "f660258b-0dd1-4f19-f00f-271fb1d4c50c"
      },
      "source": [
        "H = np.array([[0,1,-2,1], [2,-1,3,0]])\n",
        "H.T\n"
      ],
      "execution_count": 53,
      "outputs": [
        {
          "output_type": "execute_result",
          "data": {
            "text/plain": [
              "array([[ 0,  2],\n",
              "       [ 1, -1],\n",
              "       [-2,  3],\n",
              "       [ 1,  0]])"
            ]
          },
          "metadata": {},
          "execution_count": 53
        }
      ]
    },
    {
      "cell_type": "code",
      "metadata": {
        "colab": {
          "base_uri": "https://localhost:8080/"
        },
        "id": "6i46-W4RMNKw",
        "outputId": "c578a289-9acb-4455-c925-1875a71e067e"
      },
      "source": [
        "np.transpose(H)\n"
      ],
      "execution_count": 54,
      "outputs": [
        {
          "output_type": "execute_result",
          "data": {
            "text/plain": [
              "array([[ 0,  2],\n",
              "       [ 1, -1],\n",
              "       [-2,  3],\n",
              "       [ 1,  0]])"
            ]
          },
          "metadata": {},
          "execution_count": 54
        }
      ]
    },
    {
      "cell_type": "code",
      "metadata": {
        "colab": {
          "base_uri": "https://localhost:8080/"
        },
        "id": "_8BRxhSRMW0o",
        "outputId": "d30f16d3-1b2c-42e7-f769-964ade957ed8"
      },
      "source": [
        "U = np.array([[0,4], [7,0], [3,1]])\n",
        "V = np.array([[1,2], [2,3], [0,4]])\n",
        "U + V"
      ],
      "execution_count": 56,
      "outputs": [
        {
          "output_type": "execute_result",
          "data": {
            "text/plain": [
              "array([[1, 6],\n",
              "       [9, 3],\n",
              "       [3, 5]])"
            ]
          },
          "metadata": {},
          "execution_count": 56
        }
      ]
    },
    {
      "cell_type": "code",
      "metadata": {
        "colab": {
          "base_uri": "https://localhost:8080/"
        },
        "id": "7a9IQhjPMaij",
        "outputId": "0fc89f89-f1cf-48e3-ef8a-6fd737f1fd4d"
      },
      "source": [
        "2.2*U"
      ],
      "execution_count": 57,
      "outputs": [
        {
          "output_type": "execute_result",
          "data": {
            "text/plain": [
              "array([[ 0. ,  8.8],\n",
              "       [15.4,  0. ],\n",
              "       [ 6.6,  2.2]])"
            ]
          },
          "metadata": {},
          "execution_count": 57
        }
      ]
    },
    {
      "cell_type": "code",
      "metadata": {
        "colab": {
          "base_uri": "https://localhost:8080/"
        },
        "id": "8JGR-qJQMieH",
        "outputId": "43e5b971-1815-4c04-befe-e7f72f9c7616"
      },
      "source": [
        "A = np.array([[2,3,-1], [0,-1,4]])\n",
        "np.linalg.norm(A)\n"
      ],
      "execution_count": 58,
      "outputs": [
        {
          "output_type": "execute_result",
          "data": {
            "text/plain": [
              "5.5677643628300215"
            ]
          },
          "metadata": {},
          "execution_count": 58
        }
      ]
    },
    {
      "cell_type": "code",
      "metadata": {
        "colab": {
          "base_uri": "https://localhost:8080/"
        },
        "id": "viqDaItcM1NS",
        "outputId": "fbc66f90-e609-47f4-fb02-8b88252c3f5f"
      },
      "source": [
        "A = np.array([[0,2,-1],[-2,1,1]])\n",
        "x = np.array([2,1,-1])\n",
        "A @ x"
      ],
      "execution_count": 59,
      "outputs": [
        {
          "output_type": "execute_result",
          "data": {
            "text/plain": [
              "array([ 3, -4])"
            ]
          },
          "metadata": {},
          "execution_count": 59
        }
      ]
    },
    {
      "cell_type": "code",
      "metadata": {
        "colab": {
          "base_uri": "https://localhost:8080/"
        },
        "id": "03tuPvshNuwu",
        "outputId": "70920a28-5da2-4e93-af2a-e6815ad89e19"
      },
      "source": [
        "Rot = lambda theta: [[np.cos(theta), -np.sin(theta)], [np.sin(theta), np.cos(theta)]]\n",
        "R = Rot(np.pi/3)\n",
        "R"
      ],
      "execution_count": 60,
      "outputs": [
        {
          "output_type": "execute_result",
          "data": {
            "text/plain": [
              "[[0.5000000000000001, -0.8660254037844386],\n",
              " [0.8660254037844386, 0.5000000000000001]]"
            ]
          },
          "metadata": {},
          "execution_count": 60
        }
      ]
    },
    {
      "cell_type": "code",
      "metadata": {
        "id": "Oz--P26jNxA3"
      },
      "source": [
        "points = np.array([[1,0],[1.5,0],[2,0],[1,0.25],[1.5,0.25],[1,0.5]])"
      ],
      "execution_count": 62,
      "outputs": []
    },
    {
      "cell_type": "code",
      "metadata": {
        "id": "N1wld1dWN5-7"
      },
      "source": [
        "rpoints = np.array([R @ p for p in points])"
      ],
      "execution_count": 63,
      "outputs": []
    },
    {
      "cell_type": "code",
      "metadata": {
        "colab": {
          "base_uri": "https://localhost:8080/",
          "height": 265
        },
        "id": "hPlBqIn_N8ax",
        "outputId": "3bad3ae5-afe0-458f-e5e4-ebcf7e441beb"
      },
      "source": [
        "import matplotlib.pyplot as plt\n",
        "plt.ion()\n",
        "plt.scatter([c[0] for c in points], [c[1] for c in points])\n",
        "plt.scatter([c[0] for c in rpoints],[c[1] for c in rpoints])\n",
        "plt.show()"
      ],
      "execution_count": 64,
      "outputs": [
        {
          "output_type": "display_data",
          "data": {
            "image/png": "[encoded data removed]",
            "text/plain": [
              "<Figure size 432x288 with 1 Axes>"
            ]
          },
          "metadata": {
            "needs_background": "light"
          }
        }
      ]
    }
  ]
}